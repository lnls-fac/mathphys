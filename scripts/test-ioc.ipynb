{
 "cells": [
  {
   "cell_type": "code",
   "execution_count": 1,
   "metadata": {},
   "outputs": [],
   "source": [
    "import epics\n",
    "import numpy as _np\n",
    "\n",
    "from mathphys.imgproc import Image2D_Fit as _Image2D_Fit\n",
    "from siriuspy.devices import Device as _Device, DVF as _DVF"
   ]
  },
  {
   "cell_type": "code",
   "execution_count": 2,
   "metadata": {},
   "outputs": [],
   "source": [
    "class DVFImgProc(_DVF):\n",
    "    \"\"\".\"\"\"\n",
    "    \n",
    "    _properties = _DVF._properties + (\n",
    "        'ImgROIX-SP', 'ImgROIX-RB',\n",
    "        'ImgROIY-SP', 'ImgROIY-RB',\n",
    "        'ImgROIXCenter-Mon', 'ImgROIYCenter-Mon',\n",
    "        'ImgROIXFWHM-Mon', 'ImgROIYFWHM-Mon',\n",
    "        'ImgROIXUpdateWithFWHMFactor-SP', 'ImgROIXUpdateWithFWHMFactor-RB',\n",
    "        'ImgROIYUpdateWithFWHMFactor-SP', 'ImgROIYUpdateWithFWHMFactor-RB',\n",
    "        'ImgROIUpdateWithFWHM-Sel', 'ImgROIUpdateWithFWHM-Sts',\n",
    "    )\n",
    "    \n",
    "    def __init__(self, devname, *args, **kwargs):\n",
    "        \"\"\".\"\"\"\n",
    "        super().__init__(devname=devname, *args, **kwargs)\n",
    "        self.wait_for_connection(timeout=5)\n",
    "        self.cmd_update()\n",
    "        \n",
    "    @property\n",
    "    def roiy(self):\n",
    "        \"\"\".\"\"\"\n",
    "        return self['ImgROIY-RB']\n",
    "    \n",
    "    @roiy.setter\n",
    "    def roiy(self, value):\n",
    "        \"\"\".\"\"\"\n",
    "        self['ImgROIY-SP'] = value\n",
    "    \n",
    "    @property\n",
    "    def roix(self):\n",
    "        \"\"\".\"\"\"\n",
    "        return self['ImgROIX-RB']\n",
    "    \n",
    "    @roix.setter\n",
    "    def roix(self, value):\n",
    "        \"\"\".\"\"\"\n",
    "        self['ImgROIX-SP'] = value\n",
    "\n",
    "    @property\n",
    "    def roiy_center(self):\n",
    "        \"\"\".\"\"\"\n",
    "        return self['ImgROIYCenter-Mon']\n",
    "    \n",
    "    @property\n",
    "    def roix_center(self):\n",
    "        \"\"\".\"\"\"\n",
    "        return self['ImgROIXCenter-Mon']\n",
    "    \n",
    "    @property\n",
    "    def roiy_fwhm(self):\n",
    "        \"\"\".\"\"\"\n",
    "        return self['ImgROIYFWHM-Mon']\n",
    "    \n",
    "    @property\n",
    "    def roix_fwhm(self):\n",
    "        \"\"\".\"\"\"\n",
    "        return self['ImgROIXFWHM-Mon']\n",
    "    \n",
    "    @property\n",
    "    def fwhmy_factor(self):\n",
    "        \"\"\".\"\"\"\n",
    "        return self['ImgROIYUpdateWithFWHMFactor-RB']\n",
    "    \n",
    "    @fwhmy_factor.setter\n",
    "    def fwhmy_factor(self, value):\n",
    "        \"\"\".\"\"\"\n",
    "        self['ImgROIYUpdateWithFWHMFactor-SP'] = value\n",
    "        \n",
    "    @property\n",
    "    def fwhmx_factor(self):\n",
    "        \"\"\".\"\"\"\n",
    "        return self['ImgROIXUpdateWithFWHMFactor-RB']\n",
    "    \n",
    "    @fwhmx_factor.setter\n",
    "    def fwhmx_factor(self, value):\n",
    "        \"\"\".\"\"\"\n",
    "        self['ImgROIXUpdateWithFWHMFactor-SP'] = value\n",
    "    \n",
    "    @property\n",
    "    def roi_with_fwhm(self):\n",
    "        \"\"\".\"\"\"\n",
    "        return self['ImgROIUpdateWithFWHM-Sts']\n",
    "    \n",
    "    @roi_with_fwhm.setter\n",
    "    def roi_with_fwhm(self, value):\n",
    "        \"\"\".\"\"\"\n",
    "        self['ImgROIUpdateWithFWHM-Sel'] = value == True\n",
    "        \n",
    "    @property\n",
    "    def image2dfit(self):\n",
    "        \"\"\".\"\"\"\n",
    "        return self._image2dfit\n",
    "    \n",
    "    def cmd_update(self):\n",
    "        \"\"\".\"\"\"\n",
    "        self._image2dfit = _Image2D_Fit(data=self.image, roix=self.roix, roiy=self.roiy)"
   ]
  },
  {
   "cell_type": "code",
   "execution_count": 3,
   "metadata": {},
   "outputs": [
    {
     "data": {
      "text/plain": [
       "'CAX:B:BASLER01'"
      ]
     },
     "execution_count": 3,
     "metadata": {},
     "output_type": "execute_result"
    }
   ],
   "source": [
    "DVFImgProc.DEVICES.CAX_DVF2"
   ]
  },
  {
   "cell_type": "code",
   "execution_count": 4,
   "metadata": {},
   "outputs": [],
   "source": [
    "dvfimgproc = DVFImgProc(devname=DVFImgProc.DEVICES.CAX_DVF2)"
   ]
  },
  {
   "cell_type": "code",
   "execution_count": 5,
   "metadata": {},
   "outputs": [],
   "source": [
    "dvfimgproc.cmd_acquire_on()\n",
    "dvfimgproc.cmd_update()\n",
    "img = dvfimgproc.image2dfit"
   ]
  },
  {
   "cell_type": "code",
   "execution_count": 6,
   "metadata": {},
   "outputs": [
    {
     "name": "stdout",
     "output_type": "stream",
     "text": [
      "sizey           : 1024\n",
      "sizex           : 1280\n",
      "intensity_min   : 0\n",
      "intensity_max   : 4\n",
      "intensity_avg   : 0.9334739685058594\n",
      "intensity_sum   : 1223523\n",
      "saturation_val  : 255\n",
      "saturated       : False\n",
      "--- fitx ---\n",
      "size            : 1280\n",
      "intensity_min   : 874\n",
      "intensity_max   : 1031\n",
      "intensity_avg   : 955.87734375\n",
      "intensity_sum   : 1223523\n",
      "saturation_val  : 255\n",
      "saturated       : False\n",
      "roi             : [200 600]\n",
      "roi_center      : 351\n",
      "roi_fwhm        : 399\n",
      "roi_amplitude   : 85.84022432469496\n",
      "roi_mean        : 403.2988543453269\n",
      "roi_sigma       : 970.9548954683925\n",
      "roi_fit_err     : 3.0566886957184476 %\n",
      "roi_amplitude   : 85.84022432469496\n",
      "roi_mean        : 403.2988543453269\n",
      "roi_sigma       : 970.9548954683925\n",
      "roi_fit_err     : 3.0566886957184476 %\n",
      "--- fity ---\n",
      "size            : 1024\n",
      "intensity_min   : 1009\n",
      "intensity_max   : 1489\n",
      "intensity_avg   : 1194.8466796875\n",
      "intensity_sum   : 1223523\n",
      "saturation_val  : 255\n",
      "saturated       : False\n",
      "roi             : [200 400]\n",
      "roi_center      : 201\n",
      "roi_fwhm        : 199\n",
      "roi_amplitude   : nan\n",
      "roi_mean        : nan\n",
      "roi_sigma       : nan\n",
      "roi_fit_err     : nan %\n",
      "roi_amplitude   : nan\n",
      "roi_mean        : nan\n",
      "roi_sigma       : nan\n",
      "roi_fit_err     : nan %\n"
     ]
    },
    {
     "data": {
      "text/plain": [
       "(<Figure size 432x288 with 1 Axes>,\n",
       " <matplotlib.axes._subplots.AxesSubplot at 0x7f0d2d7efbe0>)"
      ]
     },
     "execution_count": 6,
     "metadata": {},
     "output_type": "execute_result"
    },
    {
     "data": {
      "image/png": "[encoded data removed]",
      "text/plain": [
       "<Figure size 432x288 with 1 Axes>"
      ]
     },
     "metadata": {
      "needs_background": "light"
     },
     "output_type": "display_data"
    }
   ],
   "source": [
    "print(img)\n",
    "img.imshow()"
   ]
  },
  {
   "cell_type": "code",
   "execution_count": 7,
   "metadata": {},
   "outputs": [
    {
     "name": "stdout",
     "output_type": "stream",
     "text": [
      "[200 600] [200 400]\n"
     ]
    }
   ],
   "source": [
    "print(dvfimgproc.roix, dvfimgproc.roiy)"
   ]
  },
  {
   "cell_type": "code",
   "execution_count": 112,
   "metadata": {},
   "outputs": [],
   "source": [
    "dvfimgproc.roix = [200, 600]\n",
    "dvfimgproc.roiy = [200, 400]"
   ]
  },
  {
   "cell_type": "code",
   "execution_count": 113,
   "metadata": {},
   "outputs": [
    {
     "name": "stdout",
     "output_type": "stream",
     "text": [
      "239 200\n"
     ]
    }
   ],
   "source": [
    "print(dvfimgproc.roix_center, dvfimgproc.roiy_center)"
   ]
  },
  {
   "cell_type": "code",
   "execution_count": 114,
   "metadata": {},
   "outputs": [
    {
     "name": "stdout",
     "output_type": "stream",
     "text": [
      "399 199\n"
     ]
    }
   ],
   "source": [
    "print(dvfimgproc.roix_fwhm, dvfimgproc.roiy_fwhm)"
   ]
  },
  {
   "cell_type": "code",
   "execution_count": 115,
   "metadata": {},
   "outputs": [
    {
     "name": "stdout",
     "output_type": "stream",
     "text": [
      "1.5 1.5\n"
     ]
    }
   ],
   "source": [
    "print(dvfimgproc.fwhmx_factor, dvfimgproc.fwhmy_factor)"
   ]
  },
  {
   "cell_type": "code",
   "execution_count": 104,
   "metadata": {},
   "outputs": [],
   "source": [
    "dvfimgproc.fwhmx_factor = 1.5\n",
    "dvfimgproc.fwhmy_factor = 1.5"
   ]
  },
  {
   "cell_type": "code",
   "execution_count": 105,
   "metadata": {},
   "outputs": [
    {
     "data": {
      "text/plain": [
       "1"
      ]
     },
     "execution_count": 105,
     "metadata": {},
     "output_type": "execute_result"
    }
   ],
   "source": [
    "dvfimgproc.roi_with_fwhm"
   ]
  },
  {
   "cell_type": "code",
   "execution_count": 106,
   "metadata": {},
   "outputs": [],
   "source": [
    "dvfimgproc.roi_with_fwhm = True"
   ]
  },
  {
   "cell_type": "code",
   "execution_count": 107,
   "metadata": {},
   "outputs": [
    {
     "name": "stdout",
     "output_type": "stream",
     "text": [
      "sizey           : 1024\n",
      "sizex           : 1280\n",
      "intensity_min   : 0\n",
      "intensity_max   : 4\n",
      "intensity_avg   : 0.9262153625488281\n",
      "intensity_sum   : 1214009\n",
      "saturation_val  : 255\n",
      "saturated       : False\n",
      "--- fitx ---\n",
      "size            : 1280\n",
      "intensity_min   : 851\n",
      "intensity_max   : 1021\n",
      "intensity_avg   : 948.44453125\n",
      "intensity_sum   : 1214009\n",
      "saturation_val  : 255\n",
      "saturated       : False\n",
      "roi             : [200 600]\n",
      "roi_center      : 351\n",
      "roi_fwhm        : 399\n",
      "roi_amplitude   : 102.90863231343056\n",
      "roi_mean        : 393.33904184119217\n",
      "roi_sigma       : 586.9230990607855\n",
      "roi_fit_err     : 3.3139295828540347 %\n",
      "roi_amplitude   : 102.90863231343056\n",
      "roi_mean        : 393.33904184119217\n",
      "roi_sigma       : 586.9230990607855\n",
      "roi_fit_err     : 3.3139295828540347 %\n",
      "--- fity ---\n",
      "size            : 1024\n",
      "intensity_min   : 981\n",
      "intensity_max   : 1527\n",
      "intensity_avg   : 1185.5556640625\n",
      "intensity_sum   : 1214009\n",
      "saturation_val  : 255\n",
      "saturated       : False\n",
      "roi             : [200 400]\n",
      "roi_center      : 202\n",
      "roi_fwhm        : 199\n",
      "roi_amplitude   : 237.24324610201808\n",
      "roi_mean        : -269.66515403064005\n",
      "roi_sigma       : 910.7352253987192\n",
      "roi_fit_err     : 2.7506882192042608 %\n",
      "roi_amplitude   : 237.24324610201808\n",
      "roi_mean        : -269.66515403064005\n",
      "roi_sigma       : 910.7352253987192\n",
      "roi_fit_err     : 2.7506882192042608 %\n"
     ]
    },
    {
     "data": {
      "image/png": "[encoded data removed]",
      "text/plain": [
       "<Figure size 432x288 with 1 Axes>"
      ]
     },
     "metadata": {
      "needs_background": "light"
     },
     "output_type": "display_data"
    },
    {
     "data": {
      "image/png": "[encoded data removed]",
      "text/plain": [
       "<Figure size 432x288 with 1 Axes>"
      ]
     },
     "metadata": {
      "needs_background": "light"
     },
     "output_type": "display_data"
    }
   ],
   "source": [
    "dvfimgproc.cmd_update()\n",
    "img = dvfimgproc.image2dfit\n",
    "print(img)\n",
    "img.imshow()\n",
    "img.plot_projections()"
   ]
  },
  {
   "cell_type": "code",
   "execution_count": 56,
   "metadata": {},
   "outputs": [
    {
     "name": "stdout",
     "output_type": "stream",
     "text": [
      "sizey           : 1024\n",
      "sizex           : 1280\n",
      "intensity_min   : 0\n",
      "intensity_max   : 182\n",
      "intensity_avg   : 1.6747734069824218\n",
      "intensity_sum   : 2195159\n",
      "saturation_val  : 255\n",
      "saturated       : False\n",
      "--- fitx ---\n",
      "size            : 1280\n",
      "intensity_min   : 928\n",
      "intensity_max   : 10588\n",
      "intensity_avg   : 1714.96796875\n",
      "intensity_sum   : 2195159\n",
      "saturation_val  : 255\n",
      "saturated       : False\n",
      "roi             : [368 558]\n",
      "roi_center      : 460\n",
      "roi_fwhm        : 96\n",
      "roi_amplitude   : 9033.741208981864\n",
      "roi_mean        : 456.1244833602748\n",
      "roi_sigma       : 38.26839927655697\n",
      "roi_fit_err     : 5.161581101930484 %\n",
      "roi_amplitude   : 9033.741208981864\n",
      "roi_mean        : 456.1244833602748\n",
      "roi_sigma       : 38.26839927655697\n",
      "roi_fit_err     : 5.161581101930484 %\n",
      "--- fity ---\n",
      "size            : 1024\n",
      "intensity_min   : 1061\n",
      "intensity_max   : 17599\n",
      "intensity_avg   : 2143.7099609375\n",
      "intensity_sum   : 2195159\n",
      "saturation_val  : 255\n",
      "saturated       : False\n",
      "roi             : [232 326]\n",
      "roi_center      : 280\n",
      "roi_fwhm        : 46\n",
      "roi_amplitude   : 14029.498525719162\n",
      "roi_mean        : 280.58993052863144\n",
      "roi_sigma       : 22.907348595042766\n",
      "roi_fit_err     : 10.796162006225025 %\n",
      "roi_amplitude   : 14029.498525719162\n",
      "roi_mean        : 280.58993052863144\n",
      "roi_sigma       : 22.907348595042766\n",
      "roi_fit_err     : 10.796162006225025 %\n"
     ]
    }
   ],
   "source": [
    "print(img)"
   ]
  },
  {
   "cell_type": "code",
   "execution_count": null,
   "metadata": {},
   "outputs": [],
   "source": []
  }
 ],
 "metadata": {
  "kernelspec": {
   "display_name": "Python 3",
   "language": "python",
   "name": "python3"
  },
  "language_info": {
   "codemirror_mode": {
    "name": "ipython",
    "version": 3
   },
   "file_extension": ".py",
   "mimetype": "text/x-python",
   "name": "python",
   "nbconvert_exporter": "python",
   "pygments_lexer": "ipython3",
   "version": "3.6.8"
  }
 },
 "nbformat": 4,
 "nbformat_minor": 4
}
