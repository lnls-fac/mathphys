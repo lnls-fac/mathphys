{
 "cells": [
  {
   "cell_type": "code",
   "execution_count": 1,
   "metadata": {
    "ExecuteTime": {
     "end_time": "2023-03-16T18:56:16.406775Z",
     "start_time": "2023-03-16T18:56:15.252798Z"
    }
   },
   "outputs": [],
   "source": [
    "import epics\n",
    "import numpy as _np\n",
    "from scipy.optimize import curve_fit as _curve_fit\n",
    "\n",
    "from mathphys.imgproc import Image2D_Fit as _Image2D_Fit\n",
    "from mathphys.imgproc import FitGaussianScipy as _FitGaussianScipy\n",
    "from siriuspy.devices import Device as _Device, DVF as _DVF"
   ]
  },
  {
   "cell_type": "code",
   "execution_count": 2,
   "metadata": {
    "ExecuteTime": {
     "end_time": "2023-03-16T18:56:17.386559Z",
     "start_time": "2023-03-16T18:56:17.362984Z"
    }
   },
   "outputs": [],
   "source": [
    "class DVFImgProc(_DVF):\n",
    "    \"\"\".\"\"\"\n",
    "    \n",
    "    _TIMEOUT_DEFAULT = 5  # [s]\n",
    "    \n",
    "    _properties = _DVF._properties + (\n",
    "        'ImgProperties-Cte', \n",
    "        'ImgTimestampBoot-Cte', \n",
    "        'ImgTimestampUpdate-Mon', \n",
    "        'ImgVersion-Cte', \n",
    "\n",
    "        'ImgSizeX-Cte', 'ImgSizeY-Cte',\n",
    "        'ImgIntensityMax-Mon', 'ImgIntensityMin-Mon',\n",
    "        'ImgIntensitySum-Mon', 'ImgIsSaturated-Mon',\n",
    "\n",
    "        'ImgROIX-RB' ,'ImgROIX-SP',\n",
    "        'ImgROIXCenter-Mon', 'ImgROIXFWHM-Mon',\n",
    "        'ImgROIY-RB', 'ImgROIY-SP',\n",
    "        'ImgROIYCenter-Mon', 'ImgROIYFWHM-Mon',\n",
    "\n",
    "        'ImgLog-Mon',\n",
    "        'ImgROIUpdateWithFWHM-Sel', 'ImgROIUpdateWithFWHM-Sts',\n",
    "        'ImgROIYUpdateWithFWHMFactor-RB', 'ImgROIYUpdateWithFWHMFactor-SP',\n",
    "        'ImgROIXUpdateWithFWHMFactor-RB', 'ImgROIXUpdateWithFWHMFactor-SP',\n",
    "\n",
    "        'ImgROIXFitMean-Mon', 'ImgROIXFitSigma-Mon',\n",
    "        'ImgROIXFitAmplitude-Mon', 'ImgROIXFitError-Mon',\n",
    "        'ImgROIYFitMean-Mon', 'ImgROIYFitSigma-Mon',\n",
    "        'ImgROIYFitAmplitude-Mon', 'ImgROIYFitError-Mon',\n",
    "        'ImgFitAngle-Mon',\n",
    "        )        \n",
    "        \n",
    "    _DVF_IMAGE_PROPTY = 'image1:ArrayData'\n",
    "    \n",
    "    def __init__(self, devname, *args, **kwargs):\n",
    "        \"\"\".\"\"\"\n",
    "        super().__init__(devname=devname, *args, **kwargs)\n",
    "        self.wait_for_connection(timeout=DVFImgProc._TIMEOUT_DEFAULT)\n",
    "        self.cmd_update()\n",
    "        self._add_callback_image()\n",
    "        \n",
    "    @property\n",
    "    def roiy(self):\n",
    "        \"\"\".\"\"\"\n",
    "        return self['ImgROIY-RB']\n",
    "    \n",
    "    @roiy.setter\n",
    "    def roiy(self, value):\n",
    "        \"\"\".\"\"\"\n",
    "        self['ImgROIY-SP'] = value\n",
    "    \n",
    "    @property\n",
    "    def roix(self):\n",
    "        \"\"\".\"\"\"\n",
    "        return self['ImgROIX-RB']\n",
    "    \n",
    "    @roix.setter\n",
    "    def roix(self, value):\n",
    "        \"\"\".\"\"\"\n",
    "        self['ImgROIX-SP'] = value\n",
    "\n",
    "    @property\n",
    "    def roiy_center(self):\n",
    "        \"\"\".\"\"\"\n",
    "        return self['ImgROIYCenter-Mon']\n",
    "    \n",
    "    @property\n",
    "    def roix_center(self):\n",
    "        \"\"\".\"\"\"\n",
    "        return self['ImgROIXCenter-Mon']\n",
    "    \n",
    "    @property\n",
    "    def roiy_fwhm(self):\n",
    "        \"\"\".\"\"\"\n",
    "        return self['ImgROIYFWHM-Mon']\n",
    "    \n",
    "    @property\n",
    "    def roix_fwhm(self):\n",
    "        \"\"\".\"\"\"\n",
    "        return self['ImgROIXFWHM-Mon']\n",
    "    \n",
    "    @property\n",
    "    def roiy_fit_mean(self):\n",
    "        \"\"\".\"\"\"\n",
    "        return self['ImgROIYFitMean-Mon']\n",
    "    \n",
    "    @property\n",
    "    def roix_fit_mean(self):\n",
    "        \"\"\".\"\"\"\n",
    "        return self['ImgROIXFitMean-Mon']\n",
    "    \n",
    "    @property\n",
    "    def roiy_fit_sigma(self):\n",
    "        \"\"\".\"\"\"\n",
    "        return self['ImgROIYFitSigma-Mon']\n",
    "    \n",
    "    @property\n",
    "    def roix_fit_sigma(self):\n",
    "        \"\"\".\"\"\"\n",
    "        return self['ImgROIXFitSigma-Mon']\n",
    "    \n",
    "    @property\n",
    "    def roiy_fit_error(self):\n",
    "        \"\"\".\"\"\"\n",
    "        return self['ImgROIYFitError-Mon']\n",
    "    \n",
    "    @property\n",
    "    def roix_fit_error(self):\n",
    "        \"\"\".\"\"\"\n",
    "        return self['ImgROIXFitError-Mon']\n",
    "    \n",
    "    @property\n",
    "    def roiy_fwhm_factor(self):\n",
    "        \"\"\".\"\"\"\n",
    "        return self['ImgROIYUpdateWithFWHMFactor-RB']\n",
    "    \n",
    "    @roiy_fwhm_factor.setter\n",
    "    def roiy_fwhm_factor(self, value):\n",
    "        \"\"\".\"\"\"\n",
    "        self['ImgROIYUpdateWithFWHMFactor-SP'] = value\n",
    "        \n",
    "    @property\n",
    "    def roix_fwhm_factor(self):\n",
    "        \"\"\".\"\"\"\n",
    "        return self['ImgROIXUpdateWithFWHMFactor-RB']\n",
    "    \n",
    "    @roix_fwhm_factor.setter\n",
    "    def roix_fwhm_factor(self, value):\n",
    "        \"\"\".\"\"\"\n",
    "        self['ImgROIXUpdateWithFWHMFactor-SP'] = value\n",
    "    \n",
    "    @property\n",
    "    def roi_with_fwhm(self):\n",
    "        \"\"\".\"\"\"\n",
    "        return self['ImgROIUpdateWithFWHM-Sts']\n",
    "    \n",
    "    @roi_with_fwhm.setter\n",
    "    def roi_with_fwhm(self, value):\n",
    "        \"\"\".\"\"\"\n",
    "        self['ImgROIUpdateWithFWHM-Sel'] = value == True\n",
    "        \n",
    "    @property\n",
    "    def log(self):\n",
    "        \"\"\".\"\"\"\n",
    "        return self['ImgLog-Mon']\n",
    "    \n",
    "    @property\n",
    "    def image2dfit(self):\n",
    "        \"\"\".\"\"\"\n",
    "        return self._image2dfit\n",
    "    \n",
    "    def cmd_update(self, *args, **kwargs):\n",
    "        \"\"\".\"\"\"\n",
    "        curve_fit = _FitGaussianScipy(curve_fit_func=_curve_fit)\n",
    "        self._image2dfit = _Image2D_Fit(data=self.image, curve_fit=curve_fit, roix=self.roix, roiy=self.roiy)\n",
    "        \n",
    "    def _add_callback_image(self):\n",
    "        \"\"\".\"\"\"\n",
    "        imgpv = self.pv_object(DVFImgProc._DVF_IMAGE_PROPTY)\n",
    "        imgpv.add_callback(self.cmd_update)"
   ]
  },
  {
   "cell_type": "code",
   "execution_count": 3,
   "metadata": {
    "ExecuteTime": {
     "end_time": "2023-03-16T18:56:22.302182Z",
     "start_time": "2023-03-16T18:56:22.045096Z"
    }
   },
   "outputs": [],
   "source": [
    "dvfimgproc = DVFImgProc(devname=DVFImgProc.DEVICES.CAX_DVF2)"
   ]
  },
  {
   "cell_type": "code",
   "execution_count": 4,
   "metadata": {
    "ExecuteTime": {
     "end_time": "2023-03-16T18:55:19.848840Z",
     "start_time": "2023-03-16T18:55:19.838613Z"
    }
   },
   "outputs": [
    {
     "data": {
      "text/plain": [
       "True"
      ]
     },
     "execution_count": 4,
     "metadata": {},
     "output_type": "execute_result"
    }
   ],
   "source": [
    "dvfimgproc.connected"
   ]
  },
  {
   "cell_type": "markdown",
   "metadata": {},
   "source": [
    "# Test ROI and fitting"
   ]
  },
  {
   "cell_type": "code",
   "execution_count": 27,
   "metadata": {
    "ExecuteTime": {
     "end_time": "2023-03-16T19:29:59.792603Z",
     "start_time": "2023-03-16T19:29:59.183537Z"
    }
   },
   "outputs": [
    {
     "data": {
      "image/png": "[encoded data removed]",
      "text/plain": [
       "<Figure size 432x288 with 1 Axes>"
      ]
     },
     "metadata": {
      "needs_background": "light"
     },
     "output_type": "display_data"
    },
    {
     "data": {
      "image/png": "[encoded data removed]",
      "text/plain": [
       "<Figure size 432x288 with 1 Axes>"
      ]
     },
     "metadata": {
      "needs_background": "light"
     },
     "output_type": "display_data"
    }
   ],
   "source": [
    "# This will plot current image and fitting\n",
    "\n",
    "img = dvfimgproc.image2dfit\n",
    "img.imshow()\n",
    "img.plot_projections()\n",
    "# print(img)"
   ]
  },
  {
   "cell_type": "code",
   "execution_count": 28,
   "metadata": {
    "ExecuteTime": {
     "end_time": "2023-03-16T19:30:02.971947Z",
     "start_time": "2023-03-16T19:30:02.964957Z"
    }
   },
   "outputs": [
    {
     "name": "stdout",
     "output_type": "stream",
     "text": [
      "roix:  [227 652]\n",
      "roiy:  [176 386]\n"
     ]
    }
   ],
   "source": [
    "# print current roix and roiy\n",
    "\n",
    "print('roix: ', dvfimgproc.roix)\n",
    "print('roiy: ', dvfimgproc.roiy)"
   ]
  },
  {
   "cell_type": "code",
   "execution_count": 29,
   "metadata": {
    "ExecuteTime": {
     "end_time": "2023-03-16T19:30:05.551253Z",
     "start_time": "2023-03-16T19:30:05.532064Z"
    }
   },
   "outputs": [
    {
     "name": "stdout",
     "output_type": "stream",
     "text": [
      "mean:  439.4529742546752 282.1724784518743\n",
      "fwhm:  86 42\n",
      "roix:  (224, 654)\n",
      "roiy:  (177, 387)\n"
     ]
    }
   ],
   "source": [
    "# calculate new roix and oiy\n",
    "\n",
    "factor = 5\n",
    "\n",
    "cx, cy = dvfimgproc.roix_fit_mean, dvfimgproc.roiy_fit_mean\n",
    "sx, sy = dvfimgproc.roix_fwhm, dvfimgproc.roiy_fwhm\n",
    "\n",
    "print('mean: ', cx, cy)\n",
    "print('fwhm: ', sx, sy)\n",
    "\n",
    "roix = int(cx - factor * sx/2), int(cx + factor * sx/2)\n",
    "roiy = int(cy - factor * sy/2), int(cy + factor * sy/2)\n",
    "\n",
    "print('roix: ', roix)\n",
    "print('roiy: ', roiy)"
   ]
  },
  {
   "cell_type": "code",
   "execution_count": 26,
   "metadata": {
    "ExecuteTime": {
     "end_time": "2023-03-16T19:29:54.913358Z",
     "start_time": "2023-03-16T19:29:54.908039Z"
    }
   },
   "outputs": [],
   "source": [
    "# set new roix and roiy\n",
    "\n",
    "dvfimgproc.roix = roix\n",
    "dvfimgproc.roiy = roiy"
   ]
  },
  {
   "cell_type": "code",
   "execution_count": 30,
   "metadata": {
    "ExecuteTime": {
     "end_time": "2023-03-16T19:30:09.730727Z",
     "start_time": "2023-03-16T19:30:09.722962Z"
    }
   },
   "outputs": [
    {
     "name": "stdout",
     "output_type": "stream",
     "text": [
      "roix_fit_error [%]:  3.117848008726976\n",
      "roiy_fit_error [%]:  1.0660199899865601\n"
     ]
    }
   ],
   "source": [
    "print('roix_fit_error [%]: ', dvfimgproc.roix_fit_error)\n",
    "print('roiy_fit_error [%]: ', dvfimgproc.roiy_fit_error)"
   ]
  },
  {
   "cell_type": "code",
   "execution_count": 41,
   "metadata": {
    "ExecuteTime": {
     "end_time": "2023-03-16T18:50:33.850982Z",
     "start_time": "2023-03-16T18:50:33.844145Z"
    }
   },
   "outputs": [
    {
     "data": {
      "text/plain": [
       "''"
      ]
     },
     "execution_count": 41,
     "metadata": {},
     "output_type": "execute_result"
    }
   ],
   "source": [
    "dvfimgproc.log"
   ]
  },
  {
   "cell_type": "markdown",
   "metadata": {},
   "source": [
    "# ROIUpdateFWHM"
   ]
  },
  {
   "cell_type": "code",
   "execution_count": 33,
   "metadata": {
    "ExecuteTime": {
     "end_time": "2023-03-16T19:30:50.809606Z",
     "start_time": "2023-03-16T19:30:50.803240Z"
    }
   },
   "outputs": [
    {
     "name": "stdout",
     "output_type": "stream",
     "text": [
      "roix_fwhm_factor:  5.0\n",
      "roiy_fwhm_factor:  5.0\n"
     ]
    }
   ],
   "source": [
    "print('roix_fwhm_factor: ', dvfimgproc.roix_fwhm_factor)\n",
    "print('roiy_fwhm_factor: ', dvfimgproc.roiy_fwhm_factor)"
   ]
  },
  {
   "cell_type": "code",
   "execution_count": 32,
   "metadata": {
    "ExecuteTime": {
     "end_time": "2023-03-16T19:30:48.597842Z",
     "start_time": "2023-03-16T19:30:48.594227Z"
    }
   },
   "outputs": [],
   "source": [
    "dvfimgproc.roix_fwhm_factor = 5\n",
    "dvfimgproc.roiy_fwhm_factor = 5"
   ]
  },
  {
   "cell_type": "code",
   "execution_count": 34,
   "metadata": {
    "ExecuteTime": {
     "end_time": "2023-03-16T19:30:53.239649Z",
     "start_time": "2023-03-16T19:30:53.234809Z"
    }
   },
   "outputs": [
    {
     "data": {
      "text/plain": [
       "0"
      ]
     },
     "execution_count": 34,
     "metadata": {},
     "output_type": "execute_result"
    }
   ],
   "source": [
    "dvfimgproc.roi_with_fwhm"
   ]
  },
  {
   "cell_type": "code",
   "execution_count": 35,
   "metadata": {
    "ExecuteTime": {
     "end_time": "2023-03-16T19:30:55.191156Z",
     "start_time": "2023-03-16T19:30:55.186722Z"
    }
   },
   "outputs": [],
   "source": [
    "dvfimgproc.roi_with_fwhm = 1"
   ]
  },
  {
   "cell_type": "code",
   "execution_count": 36,
   "metadata": {
    "ExecuteTime": {
     "end_time": "2023-03-16T19:30:59.889681Z",
     "start_time": "2023-03-16T19:30:59.303508Z"
    }
   },
   "outputs": [
    {
     "data": {
      "image/png": "[encoded data removed]",
      "text/plain": [
       "<Figure size 432x288 with 1 Axes>"
      ]
     },
     "metadata": {
      "needs_background": "light"
     },
     "output_type": "display_data"
    },
    {
     "data": {
      "image/png": "[encoded data removed]",
      "text/plain": [
       "<Figure size 432x288 with 1 Axes>"
      ]
     },
     "metadata": {
      "needs_background": "light"
     },
     "output_type": "display_data"
    }
   ],
   "source": [
    "img = dvfimgproc.image2dfit\n",
    "img.imshow()\n",
    "img.plot_projections()"
   ]
  },
  {
   "cell_type": "code",
   "execution_count": null,
   "metadata": {},
   "outputs": [],
   "source": []
  }
 ],
 "metadata": {
  "kernelspec": {
   "display_name": "Python 3",
   "language": "python",
   "name": "python3"
  },
  "language_info": {
   "codemirror_mode": {
    "name": "ipython",
    "version": 3
   },
   "file_extension": ".py",
   "mimetype": "text/x-python",
   "name": "python",
   "nbconvert_exporter": "python",
   "pygments_lexer": "ipython3",
   "version": "3.6.8"
  }
 },
 "nbformat": 4,
 "nbformat_minor": 4
}
